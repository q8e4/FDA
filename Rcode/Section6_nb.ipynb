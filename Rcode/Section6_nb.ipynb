{
 "cells": [
  {
   "cell_type": "code",
   "execution_count": 1,
   "id": "e21167b1-cf60-4f8c-bd86-a96a4b4fbd73",
   "metadata": {
    "tags": []
   },
   "outputs": [
    {
     "name": "stderr",
     "output_type": "stream",
     "text": [
      "Loading required package: mboost\n",
      "\n",
      "Loading required package: parallel\n",
      "\n",
      "Loading required package: stabs\n",
      "\n",
      "This is FDboost 0.3-1. \n",
      "\n",
      "── \u001b[1mAttaching core tidyverse packages\u001b[22m ──────────────────────── tidyverse 2.0.0 ──\n",
      "\u001b[32m✔\u001b[39m \u001b[34mdplyr    \u001b[39m 1.1.3     \u001b[32m✔\u001b[39m \u001b[34mreadr    \u001b[39m 2.1.4\n",
      "\u001b[32m✔\u001b[39m \u001b[34mforcats  \u001b[39m 1.0.0     \u001b[32m✔\u001b[39m \u001b[34mstringr  \u001b[39m 1.5.0\n",
      "\u001b[32m✔\u001b[39m \u001b[34mggplot2  \u001b[39m 3.4.4     \u001b[32m✔\u001b[39m \u001b[34mtibble   \u001b[39m 3.2.1\n",
      "\u001b[32m✔\u001b[39m \u001b[34mlubridate\u001b[39m 1.9.3     \u001b[32m✔\u001b[39m \u001b[34mtidyr    \u001b[39m 1.3.0\n",
      "\u001b[32m✔\u001b[39m \u001b[34mpurrr    \u001b[39m 1.0.2     \n",
      "── \u001b[1mConflicts\u001b[22m ────────────────────────────────────────── tidyverse_conflicts() ──\n",
      "\u001b[31m✖\u001b[39m \u001b[34mggplot2\u001b[39m::\u001b[32m%+%()\u001b[39m   masks \u001b[34mmboost\u001b[39m::%+%()\n",
      "\u001b[31m✖\u001b[39m \u001b[34mtidyr\u001b[39m::\u001b[32mextract()\u001b[39m masks \u001b[34mmboost\u001b[39m::extract()\n",
      "\u001b[31m✖\u001b[39m \u001b[34mdplyr\u001b[39m::\u001b[32mfilter()\u001b[39m  masks \u001b[34mstats\u001b[39m::filter()\n",
      "\u001b[31m✖\u001b[39m \u001b[34mdplyr\u001b[39m::\u001b[32mlag()\u001b[39m     masks \u001b[34mstats\u001b[39m::lag()\n",
      "\u001b[36mℹ\u001b[39m Use the conflicted package (\u001b[3m\u001b[34m<http://conflicted.r-lib.org/>\u001b[39m\u001b[23m) to force all conflicts to become errors\n"
     ]
    },
    {
     "data": {
      "text/html": [
       "<style>\n",
       ".list-inline {list-style: none; margin:0; padding: 0}\n",
       ".list-inline>li {display: inline-block}\n",
       ".list-inline>li:not(:last-child)::after {content: \"\\00b7\"; padding: 0 .5ex}\n",
       "</style>\n",
       "<ol class=list-inline><li>'id'</li><li>'cond'</li><li>'side'</li><li>'step'</li><li>'age'</li><li>'ht'</li><li>'wt'</li><li>'sex'</li><li>'ankle_accl_ap'</li><li>'ankle_accl_ml'</li><li>'ankle_accl_vt'</li><li>'ankle_angle_ap'</li><li>'ankle_angle_ml'</li><li>'ankle_angle_vt'</li><li>'ankle_moment_ap'</li><li>'ankle_moment_ml'</li><li>'ankle_moment_vt'</li><li>'ankle_vel_ap'</li><li>'ankle_vel_ml'</li><li>'ankle_vel_vt'</li><li>'com_grf_ap'</li><li>'com_grf_ml'</li><li>'com_grf_vt'</li><li>'hip_accl_ap'</li><li>'hip_accl_ml'</li><li>'hip_accl_vt'</li><li>'hip_angle_ap'</li><li>'hip_angle_ml'</li><li>'hip_angle_vt'</li><li>'hip_moment_ap'</li><li>'hip_moment_ml'</li><li>'hip_moment_vt'</li><li>'hip_vel_ap'</li><li>'hip_vel_ml'</li><li>'hip_vel_vt'</li><li>'knee_accl_ap'</li><li>'knee_accl_ml'</li><li>'knee_accl_vt'</li><li>'knee_angle_ap'</li><li>'knee_angle_ml'</li><li>'knee_angle_vt'</li><li>'knee_moment_ap'</li><li>'knee_moment_ml'</li><li>'knee_moment_vt'</li><li>'knee_vel_ap'</li><li>'knee_vel_ml'</li><li>'knee_vel_vt'</li><li>'cycle'</li><li>'study'</li><li>'split_set'</li></ol>\n"
      ],
      "text/latex": [
       "\\begin{enumerate*}\n",
       "\\item 'id'\n",
       "\\item 'cond'\n",
       "\\item 'side'\n",
       "\\item 'step'\n",
       "\\item 'age'\n",
       "\\item 'ht'\n",
       "\\item 'wt'\n",
       "\\item 'sex'\n",
       "\\item 'ankle\\_accl\\_ap'\n",
       "\\item 'ankle\\_accl\\_ml'\n",
       "\\item 'ankle\\_accl\\_vt'\n",
       "\\item 'ankle\\_angle\\_ap'\n",
       "\\item 'ankle\\_angle\\_ml'\n",
       "\\item 'ankle\\_angle\\_vt'\n",
       "\\item 'ankle\\_moment\\_ap'\n",
       "\\item 'ankle\\_moment\\_ml'\n",
       "\\item 'ankle\\_moment\\_vt'\n",
       "\\item 'ankle\\_vel\\_ap'\n",
       "\\item 'ankle\\_vel\\_ml'\n",
       "\\item 'ankle\\_vel\\_vt'\n",
       "\\item 'com\\_grf\\_ap'\n",
       "\\item 'com\\_grf\\_ml'\n",
       "\\item 'com\\_grf\\_vt'\n",
       "\\item 'hip\\_accl\\_ap'\n",
       "\\item 'hip\\_accl\\_ml'\n",
       "\\item 'hip\\_accl\\_vt'\n",
       "\\item 'hip\\_angle\\_ap'\n",
       "\\item 'hip\\_angle\\_ml'\n",
       "\\item 'hip\\_angle\\_vt'\n",
       "\\item 'hip\\_moment\\_ap'\n",
       "\\item 'hip\\_moment\\_ml'\n",
       "\\item 'hip\\_moment\\_vt'\n",
       "\\item 'hip\\_vel\\_ap'\n",
       "\\item 'hip\\_vel\\_ml'\n",
       "\\item 'hip\\_vel\\_vt'\n",
       "\\item 'knee\\_accl\\_ap'\n",
       "\\item 'knee\\_accl\\_ml'\n",
       "\\item 'knee\\_accl\\_vt'\n",
       "\\item 'knee\\_angle\\_ap'\n",
       "\\item 'knee\\_angle\\_ml'\n",
       "\\item 'knee\\_angle\\_vt'\n",
       "\\item 'knee\\_moment\\_ap'\n",
       "\\item 'knee\\_moment\\_ml'\n",
       "\\item 'knee\\_moment\\_vt'\n",
       "\\item 'knee\\_vel\\_ap'\n",
       "\\item 'knee\\_vel\\_ml'\n",
       "\\item 'knee\\_vel\\_vt'\n",
       "\\item 'cycle'\n",
       "\\item 'study'\n",
       "\\item 'split\\_set'\n",
       "\\end{enumerate*}\n"
      ],
      "text/markdown": [
       "1. 'id'\n",
       "2. 'cond'\n",
       "3. 'side'\n",
       "4. 'step'\n",
       "5. 'age'\n",
       "6. 'ht'\n",
       "7. 'wt'\n",
       "8. 'sex'\n",
       "9. 'ankle_accl_ap'\n",
       "10. 'ankle_accl_ml'\n",
       "11. 'ankle_accl_vt'\n",
       "12. 'ankle_angle_ap'\n",
       "13. 'ankle_angle_ml'\n",
       "14. 'ankle_angle_vt'\n",
       "15. 'ankle_moment_ap'\n",
       "16. 'ankle_moment_ml'\n",
       "17. 'ankle_moment_vt'\n",
       "18. 'ankle_vel_ap'\n",
       "19. 'ankle_vel_ml'\n",
       "20. 'ankle_vel_vt'\n",
       "21. 'com_grf_ap'\n",
       "22. 'com_grf_ml'\n",
       "23. 'com_grf_vt'\n",
       "24. 'hip_accl_ap'\n",
       "25. 'hip_accl_ml'\n",
       "26. 'hip_accl_vt'\n",
       "27. 'hip_angle_ap'\n",
       "28. 'hip_angle_ml'\n",
       "29. 'hip_angle_vt'\n",
       "30. 'hip_moment_ap'\n",
       "31. 'hip_moment_ml'\n",
       "32. 'hip_moment_vt'\n",
       "33. 'hip_vel_ap'\n",
       "34. 'hip_vel_ml'\n",
       "35. 'hip_vel_vt'\n",
       "36. 'knee_accl_ap'\n",
       "37. 'knee_accl_ml'\n",
       "38. 'knee_accl_vt'\n",
       "39. 'knee_angle_ap'\n",
       "40. 'knee_angle_ml'\n",
       "41. 'knee_angle_vt'\n",
       "42. 'knee_moment_ap'\n",
       "43. 'knee_moment_ml'\n",
       "44. 'knee_moment_vt'\n",
       "45. 'knee_vel_ap'\n",
       "46. 'knee_vel_ml'\n",
       "47. 'knee_vel_vt'\n",
       "48. 'cycle'\n",
       "49. 'study'\n",
       "50. 'split_set'\n",
       "\n",
       "\n"
      ],
      "text/plain": [
       " [1] \"id\"              \"cond\"            \"side\"            \"step\"           \n",
       " [5] \"age\"             \"ht\"              \"wt\"              \"sex\"            \n",
       " [9] \"ankle_accl_ap\"   \"ankle_accl_ml\"   \"ankle_accl_vt\"   \"ankle_angle_ap\" \n",
       "[13] \"ankle_angle_ml\"  \"ankle_angle_vt\"  \"ankle_moment_ap\" \"ankle_moment_ml\"\n",
       "[17] \"ankle_moment_vt\" \"ankle_vel_ap\"    \"ankle_vel_ml\"    \"ankle_vel_vt\"   \n",
       "[21] \"com_grf_ap\"      \"com_grf_ml\"      \"com_grf_vt\"      \"hip_accl_ap\"    \n",
       "[25] \"hip_accl_ml\"     \"hip_accl_vt\"     \"hip_angle_ap\"    \"hip_angle_ml\"   \n",
       "[29] \"hip_angle_vt\"    \"hip_moment_ap\"   \"hip_moment_ml\"   \"hip_moment_vt\"  \n",
       "[33] \"hip_vel_ap\"      \"hip_vel_ml\"      \"hip_vel_vt\"      \"knee_accl_ap\"   \n",
       "[37] \"knee_accl_ml\"    \"knee_accl_vt\"    \"knee_angle_ap\"   \"knee_angle_ml\"  \n",
       "[41] \"knee_angle_vt\"   \"knee_moment_ap\"  \"knee_moment_ml\"  \"knee_moment_vt\" \n",
       "[45] \"knee_vel_ap\"     \"knee_vel_ml\"     \"knee_vel_vt\"     \"cycle\"          \n",
       "[49] \"study\"           \"split_set\"      "
      ]
     },
     "metadata": {},
     "output_type": "display_data"
    }
   ],
   "source": [
    "library(refund) # functional regression models for comparison\n",
    "library(FuncNN) # neural networks with functional input\n",
    "library(FDboost) # Boosting functional regression\n",
    "library(tidyverse) # data wrangling\n",
    "library(ggplot2) # plotting\n",
    "\n",
    "# data import\n",
    "dta <- readRDS(\"../data/data_comb.RDS\")\n",
    "names(dta)"
   ]
  },
  {
   "cell_type": "code",
   "execution_count": 2,
   "id": "c0f78d8d-7bac-4818-8089-fce3694d2958",
   "metadata": {
    "tags": []
   },
   "outputs": [],
   "source": [
    "# Get variables---------------------------------------------------------------\n",
    "\n",
    "response_vars <- names(dta)[grep(\"grf|knee_moment|hip_moment|ankle_moment\", \n",
    "                                 names(dta))]\n",
    "pred_vars <- names(dta)[grep(\"angle|vel|accl\", names(dta))]\n",
    "\n",
    "# Restructure data -----------------------------------------------------------\n",
    "\n",
    "dta_mat <- dta[map_lgl (dta, is.matrix)]\n",
    "dta_x <- dta_mat[grepl (\"accl|vel|angle\", names (dta_mat))]\n",
    "dta_y <- dta_mat[grepl (\"grf|knee_moment|hip_moment|ankle_moment\", \n",
    "                        names(dta_mat))]\n",
    "axes <- c(\"ap\", \"ml\", \"vt\")\n",
    "prednames <- unique (str_remove_all(pred_vars, \"_ap|_ml|_vt\"))\n",
    "outnames <- unique (str_remove_all(response_vars, \"_ap|_ml|_vt\"))\n",
    "\n",
    "set.seed(42)\n",
    "\n",
    "train_ind <- sample(1:nrow(dta_y[[1]]), floor(0.8*nrow(dta_y[[1]])))\n",
    "test_ind <- setdiff(1:nrow(dta_y[[1]]), train_ind)\n",
    "\n",
    "# define final data for comparison\n",
    "x_sca <- model.matrix(~ -1 + ., data = as.data.frame(\n",
    "  dta[c(\"study\", \"sex\", \"cond\", \"side\", \"step\", \"age\", \"ht\", \"wt\")]\n",
    "))\n",
    "\n",
    "y_train <- dta_y$ankle_moment_ap[train_ind,]\n",
    "x_train_fun <- lapply(dta_x, function(x) x[train_ind,])\n",
    "x_train_sca <- x_sca[train_ind,]\n",
    "\n",
    "y_test <- dta_y$ankle_moment_ap[test_ind,]\n",
    "x_test_fun <- lapply(dta_x, function(x) x[test_ind,])\n",
    "x_test_sca <- x_sca[test_ind,]\n"
   ]
  },
  {
   "cell_type": "code",
   "execution_count": 3,
   "id": "bd3ab64b-e934-4d22-8de5-2b11130d270e",
   "metadata": {
    "tags": []
   },
   "outputs": [],
   "source": [
    "# Another split for validation\n",
    "train_train_ind <- sample(1:nrow(x_train_fun[[1]]), \n",
    "                          floor(0.8*nrow(x_train_fun[[1]])))\n",
    "train_val_ind <- setdiff(1:nrow(x_train_fun[[1]]), train_train_ind)\n",
    "\n",
    "# for pffr\n",
    "cycle <- dta$cycle\n",
    "train <- dta[names(dta)!=\"cycle\"]\n",
    "train <- lapply(train, function(x) if(is.null(dim(x))) x[train_ind] else \n",
    "  x[train_ind,])\n",
    "test <- dta[names(dta)!=\"cycle\"]\n",
    "test <- lapply(test, function(x) if(is.null(dim(x))) x[test_ind] else \n",
    "  x[test_ind,])\n"
   ]
  },
  {
   "cell_type": "code",
   "execution_count": 4,
   "id": "83b798e8-d325-4d29-9997-f60ea0920046",
   "metadata": {
    "tags": []
   },
   "outputs": [
    {
     "name": "stdout",
     "output_type": "stream",
     "text": [
      "[1] \"Starting pffr model...\"\n"
     ]
    }
   ],
   "source": [
    "\n",
    "################ PFFR ####################\n",
    "print(\"Starting pffr model...\") \n",
    "response <- response_vars[1]\n",
    "\n",
    "# Create formula\n",
    "# Create formula with ffpc for low-rank functional predictors\n",
    "form <- paste(response, \" ~ 1 + \", paste(\n",
    "  paste0(\"ffpc(\", pred_vars,\n",
    "         \", yind=cycle, xind=cycle, npc=\", c(2, 2, 4), \")\"),  # Adjust npc for each predictor\n",
    "  collapse = \" + \"),\n",
    "  \" + age\",\n",
    "  \" + ht\",\n",
    "  \" + wt\",\n",
    "  \" + sex\",\n",
    "  \"+ s(cond, bs = 're')\",\n",
    "  \"+ s(id, bs = 're')\"\n",
    ")\n",
    "\n",
    "\n",
    "train <- as.data.frame(lapply(train, function(x) if(!is.null(dim(x))) \n",
    "  return(I(x)) else x))\n",
    "train$id <- as.factor(train$id)\n",
    "train$cond <- as.factor(train$cond)\n",
    "train$sex <- as.factor(train$sex)\n",
    "test <- as.data.frame(lapply(test, function(x) if(!is.null(dim(x))) \n",
    "  return(I(x)) else x))\n",
    "test$id <- as.factor(test$id)\n",
    "test$cond <- as.factor(test$cond)\n",
    "test$sex <- as.factor(test$sex)\n",
    "\n",
    "                            \n",
    "# initialize the model\n",
    "m <- pffr(as.formula(form),\n",
    "          yind = 1:101,\n",
    "          algorithm = \"bam\",\n",
    "          data = train)\n",
    "\n",
    "prediction_pffr <- m %>% predict(test)\n"
   ]
  },
  {
   "cell_type": "code",
   "execution_count": 5,
   "id": "ae63e7f0-4a4c-4a9b-9f4f-b5e24ac47274",
   "metadata": {
    "tags": []
   },
   "outputs": [
    {
     "data": {
      "text/html": [
       "<table class=\"dataframe\">\n",
       "<caption>A matrix: 2 × 6 of type dbl</caption>\n",
       "<thead>\n",
       "\t<tr><th></th><th scope=col>used</th><th scope=col>(Mb)</th><th scope=col>gc trigger</th><th scope=col>(Mb)</th><th scope=col>max used</th><th scope=col>(Mb)</th></tr>\n",
       "</thead>\n",
       "<tbody>\n",
       "\t<tr><th scope=row>Ncells</th><td> 2973756</td><td>158.9</td><td> 4765674</td><td>254.6</td><td>  4765674</td><td>254.6</td></tr>\n",
       "\t<tr><th scope=row>Vcells</th><td>11647726</td><td> 88.9</td><td>84892471</td><td>647.7</td><td>106115588</td><td>809.6</td></tr>\n",
       "</tbody>\n",
       "</table>\n"
      ],
      "text/latex": [
       "A matrix: 2 × 6 of type dbl\n",
       "\\begin{tabular}{r|llllll}\n",
       "  & used & (Mb) & gc trigger & (Mb) & max used & (Mb)\\\\\n",
       "\\hline\n",
       "\tNcells &  2973756 & 158.9 &  4765674 & 254.6 &   4765674 & 254.6\\\\\n",
       "\tVcells & 11647726 &  88.9 & 84892471 & 647.7 & 106115588 & 809.6\\\\\n",
       "\\end{tabular}\n"
      ],
      "text/markdown": [
       "\n",
       "A matrix: 2 × 6 of type dbl\n",
       "\n",
       "| <!--/--> | used | (Mb) | gc trigger | (Mb) | max used | (Mb) |\n",
       "|---|---|---|---|---|---|---|\n",
       "| Ncells |  2973756 | 158.9 |  4765674 | 254.6 |   4765674 | 254.6 |\n",
       "| Vcells | 11647726 |  88.9 | 84892471 | 647.7 | 106115588 | 809.6 |\n",
       "\n"
      ],
      "text/plain": [
       "       used     (Mb)  gc trigger (Mb)  max used  (Mb) \n",
       "Ncells  2973756 158.9  4765674   254.6   4765674 254.6\n",
       "Vcells 11647726  88.9 84892471   647.7 106115588 809.6"
      ]
     },
     "metadata": {},
     "output_type": "display_data"
    }
   ],
   "source": [
    "\n",
    "saveRDS(prediction_pffr, file=\"../results/prediction_pffr.RDS\")\n",
    "\n",
    "rm(m, prediction_pffr); gc()\n"
   ]
  },
  {
   "cell_type": "code",
   "execution_count": 6,
   "id": "8e3ba3d2-11b2-459a-86b5-c2ac1356d522",
   "metadata": {
    "tags": []
   },
   "outputs": [
    {
     "data": {
      "text/html": [
       "<table class=\"dataframe\">\n",
       "<caption>A matrix: 2 × 6 of type dbl</caption>\n",
       "<thead>\n",
       "\t<tr><th></th><th scope=col>used</th><th scope=col>(Mb)</th><th scope=col>gc trigger</th><th scope=col>(Mb)</th><th scope=col>max used</th><th scope=col>(Mb)</th></tr>\n",
       "</thead>\n",
       "<tbody>\n",
       "\t<tr><th scope=row>Ncells</th><td> 2980370</td><td>159.2</td><td> 4765674</td><td>254.6</td><td>  4765674</td><td>254.6</td></tr>\n",
       "\t<tr><th scope=row>Vcells</th><td>11662713</td><td> 89.0</td><td>67913977</td><td>518.2</td><td>106115588</td><td>809.6</td></tr>\n",
       "</tbody>\n",
       "</table>\n"
      ],
      "text/latex": [
       "A matrix: 2 × 6 of type dbl\n",
       "\\begin{tabular}{r|llllll}\n",
       "  & used & (Mb) & gc trigger & (Mb) & max used & (Mb)\\\\\n",
       "\\hline\n",
       "\tNcells &  2980370 & 159.2 &  4765674 & 254.6 &   4765674 & 254.6\\\\\n",
       "\tVcells & 11662713 &  89.0 & 67913977 & 518.2 & 106115588 & 809.6\\\\\n",
       "\\end{tabular}\n"
      ],
      "text/markdown": [
       "\n",
       "A matrix: 2 × 6 of type dbl\n",
       "\n",
       "| <!--/--> | used | (Mb) | gc trigger | (Mb) | max used | (Mb) |\n",
       "|---|---|---|---|---|---|---|\n",
       "| Ncells |  2980370 | 159.2 |  4765674 | 254.6 |   4765674 | 254.6 |\n",
       "| Vcells | 11662713 |  89.0 | 67913977 | 518.2 | 106115588 | 809.6 |\n",
       "\n"
      ],
      "text/plain": [
       "       used     (Mb)  gc trigger (Mb)  max used  (Mb) \n",
       "Ncells  2980370 159.2  4765674   254.6   4765674 254.6\n",
       "Vcells 11662713  89.0 67913977   518.2 106115588 809.6"
      ]
     },
     "metadata": {},
     "output_type": "display_data"
    }
   ],
   "source": [
    "# Create formula\n",
    "form <- paste(response, \" ~ 1\")\n",
    "\n",
    "# initialize the model\n",
    "mint <- pffr(as.formula(form),\n",
    "             yind = 1:101,\n",
    "             algorithm = \"bam\",\n",
    "             data = train)\n",
    "\n",
    "prediction_intercept <- mint %>% predict(test[c(\"id\")])\n",
    "\n",
    "saveRDS(prediction_intercept, file=\"../results/prediction_intercept.RDS\")\n",
    "\n",
    "rm(mint, prediction_intercept); gc()"
   ]
  },
  {
   "cell_type": "code",
   "execution_count": 7,
   "id": "ee1464a1-2584-4a9f-b331-6e7ec16e9f4c",
   "metadata": {},
   "outputs": [
    {
     "name": "stdout",
     "output_type": "stream",
     "text": [
      "[1] \"Starting PFFR model...\"\n"
     ]
    },
    {
     "data": {
      "text/html": [
       "<table class=\"dataframe\">\n",
       "<caption>A matrix: 2 × 6 of type dbl</caption>\n",
       "<thead>\n",
       "\t<tr><th></th><th scope=col>used</th><th scope=col>(Mb)</th><th scope=col>gc trigger</th><th scope=col>(Mb)</th><th scope=col>max used</th><th scope=col>(Mb)</th></tr>\n",
       "</thead>\n",
       "<tbody>\n",
       "\t<tr><th scope=row>Ncells</th><td> 2981975</td><td>159.3</td><td> 4765674</td><td>254.6</td><td>  4765674</td><td>254.6</td></tr>\n",
       "\t<tr><th scope=row>Vcells</th><td>11674372</td><td> 89.1</td><td>82266808</td><td>627.7</td><td>106115588</td><td>809.6</td></tr>\n",
       "</tbody>\n",
       "</table>\n"
      ],
      "text/latex": [
       "A matrix: 2 × 6 of type dbl\n",
       "\\begin{tabular}{r|llllll}\n",
       "  & used & (Mb) & gc trigger & (Mb) & max used & (Mb)\\\\\n",
       "\\hline\n",
       "\tNcells &  2981975 & 159.3 &  4765674 & 254.6 &   4765674 & 254.6\\\\\n",
       "\tVcells & 11674372 &  89.1 & 82266808 & 627.7 & 106115588 & 809.6\\\\\n",
       "\\end{tabular}\n"
      ],
      "text/markdown": [
       "\n",
       "A matrix: 2 × 6 of type dbl\n",
       "\n",
       "| <!--/--> | used | (Mb) | gc trigger | (Mb) | max used | (Mb) |\n",
       "|---|---|---|---|---|---|---|\n",
       "| Ncells |  2981975 | 159.3 |  4765674 | 254.6 |   4765674 | 254.6 |\n",
       "| Vcells | 11674372 |  89.1 | 82266808 | 627.7 | 106115588 | 809.6 |\n",
       "\n"
      ],
      "text/plain": [
       "       used     (Mb)  gc trigger (Mb)  max used  (Mb) \n",
       "Ncells  2981975 159.3  4765674   254.6   4765674 254.6\n",
       "Vcells 11674372  89.1 82266808   627.7 106115588 809.6"
      ]
     },
     "metadata": {},
     "output_type": "display_data"
    },
    {
     "ename": "ERROR",
     "evalue": "Error in results[[2]]: subscript out of bounds\n",
     "output_type": "error",
     "traceback": [
      "Error in results[[2]]: subscript out of bounds\nTraceback:\n",
      "1. mean(sqrt(rowSums((results[[2]] - results[[1]])^2)))",
      "2. rowSums((results[[2]] - results[[1]])^2)"
     ]
    }
   ],
   "source": [
    "# Get variables---------------------------------------------------------------\n",
    "\n",
    "response_vars <- names(dta)[grep(\"grf|knee_moment|hip_moment|ankle_moment\", \n",
    "                                 names(dta))]\n",
    "pred_vars <- names(dta)[grep(\"angle|vel|accl\", names(dta))]\n",
    "\n",
    "# Restructure data -----------------------------------------------------------\n",
    "\n",
    "dta_mat <- dta[map_lgl(dta, is.matrix)]\n",
    "dta_x <- dta_mat[grepl(\"accl|vel|angle\", names(dta_mat))]\n",
    "dta_y <- dta_mat[grepl(\"grf|knee_moment|hip_moment|ankle_moment\", \n",
    "                       names(dta_mat))]\n",
    "\n",
    "set.seed(42)\n",
    "train_ind <- sample(1:nrow(dta_y[[1]]), floor(0.8 * nrow(dta_y[[1]])))\n",
    "test_ind <- setdiff(1:nrow(dta_y[[1]]), train_ind)\n",
    "\n",
    "# Define data for PFFR\n",
    "x_sca <- model.matrix(~ -1 + ., data = as.data.frame(\n",
    "  dta[c(\"study\", \"sex\", \"cond\", \"side\", \"step\", \"age\", \"ht\", \"wt\")]\n",
    "))\n",
    "y_train <- dta_y$ankle_moment_ap[train_ind,]\n",
    "x_train_fun <- lapply(dta_x, function(x) x[train_ind,])\n",
    "x_train_sca <- x_sca[train_ind,]\n",
    "\n",
    "y_test <- dta_y$ankle_moment_ap[test_ind,]\n",
    "x_test_fun <- lapply(dta_x, function(x) x[test_ind,])\n",
    "x_test_sca <- x_sca[test_ind,]\n",
    "\n",
    "# Prepare training and testing data for PFFR\n",
    "cycle <- dta$cycle\n",
    "train <- dta[names(dta) != \"cycle\"]\n",
    "train <- lapply(train, function(x) if (is.null(dim(x))) x[train_ind] else x[train_ind,])\n",
    "test <- dta[names(dta) != \"cycle\"]\n",
    "test <- lapply(test, function(x) if (is.null(dim(x))) x[test_ind] else x[test_ind,])\n",
    "\n",
    "# PFFR Model ----------------------------------------------------------------\n",
    "print(\"Starting PFFR model...\") \n",
    "response <- response_vars[1]\n",
    "\n",
    "# Create formula with ffpc for low-rank functional predictors\n",
    "form <- paste(response, \" ~ 1 + \", paste(\n",
    "  paste0(\"ffpc(\", pred_vars, \", yind=cycle, xind=cycle, npc=\", c(2, 2, 4), \")\"),  \n",
    "  collapse = \" + \"),\n",
    "  \" + age\",\n",
    "  \" + ht\",\n",
    "  \" + wt\",\n",
    "  \" + sex\",\n",
    "  \"+ s(cond, bs = 're')\",\n",
    "  \"+ s(id, bs = 're')\"\n",
    ")\n",
    "\n",
    "train <- as.data.frame(lapply(train, function(x) if (!is.null(dim(x))) return(I(x)) else x))\n",
    "train$id <- as.factor(train$id)\n",
    "train$cond <- as.factor(train$cond)\n",
    "train$sex <- as.factor(train$sex)\n",
    "test <- as.data.frame(lapply(test, function(x) if (!is.null(dim(x))) return(I(x)) else x))\n",
    "test$id <- as.factor(test$id)\n",
    "test$cond <- as.factor(test$cond)\n",
    "test$sex <- as.factor(test$sex)\n",
    "\n",
    "# Initialize the PFFR model\n",
    "m <- pffr(as.formula(form), yind = 1:101, algorithm = \"bam\", data = train)\n",
    "\n",
    "# Predictions\n",
    "prediction_pffr <- predict(m, newdata = test)\n",
    "saveRDS(prediction_pffr, file = \"../results/prediction_pffr.RDS\")\n",
    "\n",
    "rm(m, prediction_pffr); gc()\n",
    "\n",
    "# Comparison and Visualization ------------------------------------------------\n",
    "\n",
    "# Load predictions and true values\n",
    "results <- c(list(y_test), lapply(list.files(\"results\", full.names = TRUE), \n",
    "                                  function(x) as.matrix(readRDS(x))))\n",
    "nams <- c(\"Truth\", \"PFFR\")\n",
    "resultsDF <- do.call(\"rbind\", lapply(1:length(results), function(i) \n",
    "  data.frame(value = c(results[[i]]), time = rep(1:101, each = nrow(y_test)),\n",
    "             obs = rep(1:nrow(y_test), 101), what = nams[i])))\n",
    "\n",
    "# Calculate RMSE for PFFR model\n",
    "rmse_pffr <- mean(sqrt(rowSums((results[[2]] - results[[1]])^2)))\n",
    "rmseDF <- data.frame(rmse = paste0(\"RMSE: \", round(rmse_pffr, 4)), what = \"PFFR\", obs = 1)\n",
    "\n",
    "# Plot\n",
    "palette <- RColorBrewer::brewer.pal(8, \"Dark2\")\n",
    "palette <- rgb(col2rgb(palette)[1, ] / 255, col2rgb(palette)[2, ] / 255, col2rgb(palette)[3, ] / 255, alpha = 0.25)\n",
    "\n",
    "par(mfrow = c(1, 2), cex = 0.8)\n",
    "for (method in unique(resultsDF$what)) {\n",
    "  single_result <- subset(resultsDF, what == method)\n",
    "  matplot(t(matrix(single_result$value, ncol = 101)), \n",
    "          x = seq(0, 1, length.out = 101), \n",
    "          col = palette[as.integer(single_result$what)], \n",
    "          type = 'l', ylim = c(-1.1, 1.1), \n",
    "          xlab = 'Relative Time', ylab = 'Value', main = method, bty = \"n\")\n",
    "  \n",
    "  if (method == \"PFFR\") {\n",
    "    text(x = 0.05, y = -0.9, labels = rmseDF$rmse, pos = 4)\n",
    "  }\n",
    "}\n"
   ]
  },
  {
   "cell_type": "code",
   "execution_count": null,
   "id": "09d9d660-a83b-4418-bed3-953a90c8e0c0",
   "metadata": {},
   "outputs": [],
   "source": []
  }
 ],
 "metadata": {
  "kernelspec": {
   "display_name": "R",
   "language": "R",
   "name": "ir"
  },
  "language_info": {
   "codemirror_mode": "r",
   "file_extension": ".r",
   "mimetype": "text/x-r-source",
   "name": "R",
   "pygments_lexer": "r",
   "version": "4.3.1"
  }
 },
 "nbformat": 4,
 "nbformat_minor": 5
}
