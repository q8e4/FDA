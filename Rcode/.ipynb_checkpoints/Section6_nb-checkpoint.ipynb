{
 "cells": [
  {
   "cell_type": "code",
   "execution_count": 3,
   "id": "e21167b1-cf60-4f8c-bd86-a96a4b4fbd73",
   "metadata": {
    "tags": []
   },
   "outputs": [
    {
     "name": "stderr",
     "output_type": "stream",
     "text": [
      "Warning message in file(filename, \"r\", encoding = encoding):\n",
      "“cannot open file 'Rcode/nn_helpers.R': No such file or directory”\n"
     ]
    },
    {
     "ename": "ERROR",
     "evalue": "Error in file(filename, \"r\", encoding = encoding): cannot open the connection\n",
     "output_type": "error",
     "traceback": [
      "Error in file(filename, \"r\", encoding = encoding): cannot open the connection\nTraceback:\n",
      "1. source(\"Rcode/nn_helpers.R\")",
      "2. file(filename, \"r\", encoding = encoding)"
     ]
    }
   ],
   "source": [
    "library(refund) # functional regression models for comparison\n",
    "library(FuncNN) # neural networks with functional input\n",
    "library(FDboost) # Boosting functional regression\n",
    "library(tidyverse) # data wrangling\n",
    "library(ggplot2) # plotting\n",
    "source(\"Rcode/nn_helpers.R\") # neural networks\n",
    "\n",
    "# data import\n",
    "dta <- readRDS(\"../data/data_comb.RDS\")\n",
    "names(dta)"
   ]
  },
  {
   "cell_type": "code",
   "execution_count": null,
   "id": "c0f78d8d-7bac-4818-8089-fce3694d2958",
   "metadata": {},
   "outputs": [],
   "source": []
  }
 ],
 "metadata": {
  "kernelspec": {
   "display_name": "R",
   "language": "R",
   "name": "ir"
  },
  "language_info": {
   "codemirror_mode": "r",
   "file_extension": ".r",
   "mimetype": "text/x-r-source",
   "name": "R",
   "pygments_lexer": "r",
   "version": "4.3.1"
  }
 },
 "nbformat": 4,
 "nbformat_minor": 5
}
